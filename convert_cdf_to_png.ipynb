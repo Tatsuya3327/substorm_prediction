{
 "cells": [
  {
   "cell_type": "code",
   "execution_count": 6,
   "id": "df2a6420",
   "metadata": {},
   "outputs": [],
   "source": [
    "import numpy as np\n",
    "import pandas as pd\n",
    "import matplotlib.pyplot as plt\n",
    "import matplotlib.dates as mdates\n",
    "from spacepy import pycdf\n",
    "from datetime import datetime, timedelta\n",
    "import os\n",
    "from PIL import Image, ImageOps"
   ]
  },
  {
   "cell_type": "code",
   "execution_count": 108,
   "id": "c0e3aefe",
   "metadata": {},
   "outputs": [
    {
     "data": {
      "text/plain": [
       "<CDF:\n",
       "range_epoch: CDF_EPOCH [2]\n",
       "thg_asf_fsmi: CDF_UINT2 [1200, 256, 256]\n",
       "thg_asf_fsmi_column: CDF_UINT2 [256] NRV\n",
       "thg_asf_fsmi_epoch: CDF_EPOCH [1200]\n",
       "thg_asf_fsmi_epoch0: CDF_EPOCH [] NRV\n",
       "thg_asf_fsmi_row: CDF_UINT2 [256] NRV\n",
       "thg_asf_fsmi_tend: CDF_REAL8 [1200]\n",
       "thg_asf_fsmi_time: CDF_REAL8 [1200]\n",
       ">"
      ]
     },
     "execution_count": 108,
     "metadata": {},
     "output_type": "execute_result"
    }
   ],
   "source": [
    "fsmi_cdf = pycdf.CDF('data/cdfs/images/fsmi/thg_l1_asf_fsmi_2008020203_v01.cdf')\n",
    "fsmi_cdf"
   ]
  },
  {
   "cell_type": "code",
   "execution_count": 107,
   "id": "b0ee97f9",
   "metadata": {},
   "outputs": [],
   "source": [
    "def preprocess_image(images):\n",
    "    normalized_images = []\n",
    "    for image in images:\n",
    "        new_image = image - np.percentile(image, 1) # subtract 1st percentile\n",
    "        new_image = new_image / np.percentile(image, 99) # devide by 99th percentile\n",
    "        new_image = np.maximum(np.zeros(new_image.shape), new_image) # set negative to 0\n",
    "        new_image = np.minimum(np.ones(new_image.shape), new_image) # set upper bound to 1\n",
    "        new_image = (new_image * 255).astype(np.uint8)\n",
    "        normalized_images.append(new_image)\n",
    "    return normalized_images"
   ]
  },
  {
   "cell_type": "code",
   "execution_count": 105,
   "id": "ec901224",
   "metadata": {},
   "outputs": [],
   "source": [
    "from spacepy import pycdf\n",
    "from datetime import datetime, timedelta\n",
    "from PIL import Image, ImageOps\n",
    "\n",
    "def convert_cdf_to_png(cdf, image_column, time_column, dest_dir):\n",
    "    # load numpy array\n",
    "    images = cdf[image_column]\n",
    "    times = cdf[time_column]\n",
    "    \n",
    "    # preprocess images\n",
    "    images = preprocess_image(images)\n",
    "    \n",
    "    # create destination directory\n",
    "    os.mkdir(dest_dir)\n",
    "    \n",
    "    for image, time in zip(images, times):\n",
    "        # file name in YYYYMMDDHHMMSS format\n",
    "        time_str = time.strftime('%Y%m%d%H%M%S')\n",
    "        \n",
    "        # convert to PIL Image\n",
    "        im = Image.fromarray(image)\n",
    "        \n",
    "        # grayscale\n",
    "        im = ImageOps.grayscale(im)\n",
    "        \n",
    "        # save as png in destination format\n",
    "        im.save(f'{dest_dir}/image_{time_str}.png')"
   ]
  },
  {
   "cell_type": "code",
   "execution_count": 110,
   "id": "6c679001",
   "metadata": {},
   "outputs": [],
   "source": [
    "dest_path = 'data/images/thg_asf_fsmi'\n",
    "\n",
    "convert_cdf_to_png(fsmi_cdf, 'thg_asf_fsmi', 'thg_asf_fsmi_epoch', dest_path)"
   ]
  },
  {
   "cell_type": "code",
   "execution_count": null,
   "id": "fc784042",
   "metadata": {},
   "outputs": [],
   "source": []
  },
  {
   "cell_type": "code",
   "execution_count": null,
   "id": "daf1c45b",
   "metadata": {},
   "outputs": [],
   "source": []
  },
  {
   "cell_type": "code",
   "execution_count": null,
   "id": "0fa9bd3d",
   "metadata": {},
   "outputs": [],
   "source": []
  },
  {
   "cell_type": "code",
   "execution_count": 96,
   "id": "0a0b5e51",
   "metadata": {},
   "outputs": [],
   "source": []
  },
  {
   "cell_type": "code",
   "execution_count": null,
   "id": "540cecf6",
   "metadata": {},
   "outputs": [],
   "source": []
  }
 ],
 "metadata": {
  "kernelspec": {
   "display_name": "Python 3 (ipykernel)",
   "language": "python",
   "name": "python3"
  },
  "language_info": {
   "codemirror_mode": {
    "name": "ipython",
    "version": 3
   },
   "file_extension": ".py",
   "mimetype": "text/x-python",
   "name": "python",
   "nbconvert_exporter": "python",
   "pygments_lexer": "ipython3",
   "version": "3.8.5"
  }
 },
 "nbformat": 4,
 "nbformat_minor": 5
}
